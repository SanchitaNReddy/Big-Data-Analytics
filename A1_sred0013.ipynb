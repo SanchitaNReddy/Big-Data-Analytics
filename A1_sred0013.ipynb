{
 "cells": [
  {
   "cell_type": "markdown",
   "metadata": {},
   "source": [
    "# FIT5202 Assignment 1 : Analysing eCommerce Data\n",
    "\n",
    "## Table of Contents\n",
    "* \n",
    "    * [Part 1 : Working with RDD](#part-1)\n",
    "        * [1.1 Data Preparation and Loading](#1.1)\n",
    "        * [1.2 Data Partitioning in RDD](#1.2)\n",
    "        * [1.3 Query/Analysis](#1.3)\n",
    "    * [Part 2 : Working with DataFrames](#2-dataframes)\n",
    "        * [2.1 Data Preparation and Loading](#2-dataframes)\n",
    "        * [2.2 Query/Analysis](#2.2)\n",
    "    * [Part 3 :  RDDs vs DataFrame vs Spark SQL](#part-3)"
   ]
  },
  {
   "cell_type": "markdown",
   "metadata": {},
   "source": [
    "# Part 1 : Working with RDDs <a class=\"anchor\" name=\"part-1\"></a>\n",
    "## 1.1 Working with RDD\n",
    "In this section, you will need to create RDDs from the given datasets, perform partitioning in these RDDs and use various RDD operations to answer the queries for retail analysis. \n",
    "\n",
    "### 1.1.1 Data Preparation and Loading <a class=\"anchor\" name=\"1.1\"></a>\n",
    "Write the code to create a SparkContext object using SparkSession. To create a SparkSession you first need to build a SparkConf object that contains information about your application, use Melbourne time as the session timezone. Give an appropriate name for your application and run Spark locally with as many working processors as logical cores on your machine. "
   ]
  },
  {
   "cell_type": "code",
   "execution_count": 1,
   "metadata": {},
   "outputs": [
    {
     "name": "stdout",
     "output_type": "stream",
     "text": [
      "Australia/Melbourne\n"
     ]
    }
   ],
   "source": [
    "# Importing SparkConf, SparkContext and SparkSession classes\n",
    "from pyspark import SparkConf\n",
    "from pyspark import SparkContext\n",
    "from pyspark.sql import SparkSession\n",
    "\n",
    "# running Spark locally with as many working processors as logical cores on my machine\n",
    "master = \"local[*]\"\n",
    "\n",
    "# defining the an appropriate name for my application\n",
    "app_name = \"FIT5202_33483086 MOTH\"\n",
    "\n",
    "# configuration for Spark\n",
    "spark_conf = SparkConf().setMaster(master).setAppName(app_name)\n",
    "\n",
    "# creating the Spark session\n",
    "spark = SparkSession.builder.config(conf=spark_conf).getOrCreate()\n",
    "sc = spark.sparkContext\n",
    "sc.setLogLevel(\"ERROR\")\n",
    "\n",
    "# setting the timezone\n",
    "spark.conf.set(\"spark.sql.session.timeZone\", \"Australia/Melbourne\")\n",
    "print(spark.conf.get(\"spark.sql.session.timeZone\"))\n",
    "#reference: (“How to Set Timezone to UTC in Apache Spark?,” n.d.)"
   ]
  },
  {
   "cell_type": "markdown",
   "metadata": {},
   "source": [
    "1.1.2 Load CUPS csv files into four RDDs."
   ]
  },
  {
   "cell_type": "code",
   "execution_count": 2,
   "metadata": {},
   "outputs": [
    {
     "name": "stdout",
     "output_type": "stream",
     "text": [
      "Category:\n",
      "['category_id,category_code', '2090971686529663114,appliances.environment.vacuum', '2232732116498514828,apparel.jeans', '2232732109628244704,apparel.shirt', '2232732103294845523,apparel.shoes.step_ins']\n"
     ]
    }
   ],
   "source": [
    "# Creating four RDDs for CUPS\n",
    "rdd_category = sc.textFile(\"sales/category.csv\")\n",
    "rdd_product = sc.textFile(\"sales/product.csv\")\n",
    "rdd_sales = sc.textFile(\"sales/sales.csv\")\n",
    "rdd_users = sc.textFile(\"users.csv\")\n",
    "\n",
    "# show content of category file\n",
    "print(f\"Category:\")\n",
    "print(rdd_category.take(5))"
   ]
  },
  {
   "cell_type": "code",
   "execution_count": 3,
   "metadata": {},
   "outputs": [
    {
     "name": "stdout",
     "output_type": "stream",
     "text": [
      "Products:\n",
      "['product_id,category_id,brand,avg_cost', '100168127,2053013554096767303,,30.8171196068388', '7101887,2232732103764607583,,33.6457534471799', '100058603,2053013555438944659,,32.1982006550096', '100007811,2232732112782361392,etro,300.111251624047']\n"
     ]
    }
   ],
   "source": [
    "# show content of products file\n",
    "print(f\"Products:\")\n",
    "print(rdd_product.take(5))"
   ]
  },
  {
   "cell_type": "code",
   "execution_count": 4,
   "metadata": {},
   "outputs": [
    {
     "name": "stdout",
     "output_type": "stream",
     "text": [
      "Sales:\n",
      "['id,sales_timestamp,product_id,price,user_id,user_session', '338156802,2020-03-27 02:03:48.000000 +00:00,4804056,171.56,513119357,0ad58441-9db9-48bd-9ee7-accf603f06e0', '338156808,2020-03-27 02:03:49.000000 +00:00,1005223,209.53,522277649,2ecb2725-2c40-4acb-8ef1-05e39ea4c2cc', '338156913,2020-03-27 02:04:11.000000 +00:00,1005212,174.25,632847510,43609582-1818-4885-bd72-3791f3a4ec93', '338156921,2020-03-27 02:04:13.000000 +00:00,1005236,231.15,626579483,bbf972ef-8f8d-4a33-bcbd-ac09af67ea40']\n"
     ]
    }
   ],
   "source": [
    "# show content of sales file\n",
    "print(f\"Sales:\")\n",
    "print(rdd_sales.take(5))"
   ]
  },
  {
   "cell_type": "code",
   "execution_count": 5,
   "metadata": {},
   "outputs": [
    {
     "name": "stdout",
     "output_type": "stream",
     "text": [
      "Users:\n",
      "['user_id,firstname,lastname,dob,address,postcode,state,sex,suburb', '514771925,MERVYN,Unknown,1-5-1963,30A LUCINDA AVENUE,2260,NSW,male,WAMBERAL', '531947692,FALLON,Unknown,16-10-2002,82 CAMBERWARRA DRIVE,6025,WA,female,CRAIGIE', '560231306,KALIN,Unknown,19-8-2015,74 SOLDIERS ROAD,2281,NSW,male,PELICAN', '575248835,PIETTA,Unknown,19-1-1962,\"UNIT 1, 1 LARK AVENUE\",5023,SA,female,SEATON']\n"
     ]
    }
   ],
   "source": [
    "# show content of users file\n",
    "print(f\"Users:\")\n",
    "print(rdd_users.take(5))"
   ]
  },
  {
   "cell_type": "markdown",
   "metadata": {},
   "source": [
    "1.1.3 For each RDD, remove the header rows and display the total count and first 10 records. (Hint: You can use csv.reader to parse rows into RDDs.)"
   ]
  },
  {
   "cell_type": "code",
   "execution_count": 6,
   "metadata": {},
   "outputs": [
    {
     "name": "stdout",
     "output_type": "stream",
     "text": [
      "Category:\n",
      "Total count of records: 1464\n",
      "First 10 records:\n",
      "[['2090971686529663114', 'appliances.environment.vacuum'], ['2232732116498514828', 'apparel.jeans'], ['2232732109628244704', 'apparel.shirt'], ['2232732103294845523', 'apparel.shoes.step_ins'], ['2232732086500851925', 'apparel.scarf'], ['2232732100660822557', 'country_yard.cultivator'], ['2053013558282682943', 'construction.tools.drill'], ['2053013562527318829', 'furniture.living_room.cabinet'], ['2110937143172923797', 'construction.tools.light'], ['2074462942123786261', 'kids.toys']]\n"
     ]
    }
   ],
   "source": [
    "import csv\n",
    "\n",
    "# a function to process the data, remove header for 4 rdds.\n",
    "def rdd_processing(rdd):\n",
    "    # parsing the record to prepare for processing\n",
    "    parse_rdd = rdd.mapPartitions(lambda lines: csv.reader(lines, delimiter=\",\"))\n",
    "    # identifying the header and removing\n",
    "    header = parse_rdd.first()\n",
    "    rdd_without_header = parse_rdd.filter(lambda x: x != header)\n",
    "    return rdd_without_header\n",
    "\n",
    "\n",
    "# using the function created to remove header\n",
    "rdd_category_without_header = rdd_processing(rdd_category)\n",
    "print(\"Category:\")\n",
    "# Total records after header removal\n",
    "total_count = rdd_category_without_header.count()\n",
    "print(f\"Total count of records: {total_count}\")\n",
    "# displaying the first 10 records\n",
    "print(f\"First 10 records:\")\n",
    "ten_records = rdd_category_without_header.take(10)\n",
    "print(ten_records)"
   ]
  },
  {
   "cell_type": "code",
   "execution_count": 7,
   "metadata": {},
   "outputs": [
    {
     "name": "stdout",
     "output_type": "stream",
     "text": [
      "Product:\n",
      "Total count of records: 208290\n",
      "First 10 records:\n",
      "[['100168127', '2053013554096767303', '', '30.8171196068388'], ['7101887', '2232732103764607583', '', '33.6457534471799'], ['100058603', '2053013555438944659', '', '32.1982006550096'], ['100007811', '2232732112782361392', 'etro', '300.111251624047'], ['26400508', '2053013553056579841', '', '139.458912588293'], ['100215722', '2134905019189691101', '', '4.15035271832127'], ['32402016', '2232732115777094520', '', '5.90104832419485'], ['13201248', '2232732061804790604', 'brw', '400.468187201711'], ['2701879', '2053013563911439225', 'beko', '249.969115457257'], ['15300266', '2232732107698864813', '', '2.85509519214549']]\n"
     ]
    }
   ],
   "source": [
    "# using the function created to remove header\n",
    "rdd_product_without_header = rdd_processing(rdd_product)\n",
    "print(\"Product:\")\n",
    "# Total records after header removal\n",
    "total_count = rdd_product_without_header.count()\n",
    "print(f\"Total count of records: {total_count}\")\n",
    "# displaying the first 10 records\n",
    "print(f\"First 10 records:\")\n",
    "ten_records = rdd_product_without_header.take(10)\n",
    "print(ten_records)"
   ]
  },
  {
   "cell_type": "code",
   "execution_count": 8,
   "metadata": {},
   "outputs": [
    {
     "name": "stdout",
     "output_type": "stream",
     "text": [
      "Sales:\n",
      "Total count of records: 6848824\n",
      "First 10 records:\n",
      "[['338156802', '2020-03-27 02:03:48.000000 +00:00', '4804056', '171.56', '513119357', '0ad58441-9db9-48bd-9ee7-accf603f06e0'], ['338156808', '2020-03-27 02:03:49.000000 +00:00', '1005223', '209.53', '522277649', '2ecb2725-2c40-4acb-8ef1-05e39ea4c2cc'], ['338156913', '2020-03-27 02:04:11.000000 +00:00', '1005212', '174.25', '632847510', '43609582-1818-4885-bd72-3791f3a4ec93'], ['338156921', '2020-03-27 02:04:13.000000 +00:00', '1005236', '231.15', '626579483', 'bbf972ef-8f8d-4a33-bcbd-ac09af67ea40'], ['338156953', '2020-03-27 02:04:18.000000 +00:00', '1005212', '174.25', '633245502', '90166e0d-d7da-4997-b479-bc3a0fd724d6'], ['338156985', '2020-03-27 02:04:24.000000 +00:00', '100132156', '47.5', '541680528', '4cd111cc-8716-4720-b7e3-bc3c8ddce98f'], ['338157055', '2020-03-27 02:04:37.000000 +00:00', '3500009', '290.84', '618162129', 'd0bda424-a759-4941-b9be-5091c28009db'], ['338157122', '2020-03-27 02:04:48.000000 +00:00', '2300214', '386.08', '626601722', 'ce913646-936a-4b2e-b6bb-9f6e0d781bc5'], ['338157141', '2020-03-27 02:04:52.000000 +00:00', '100070443', '35.01', '604369152', 'fd55e2cd-dc42-4bf9-a0a1-f207f1c66e5d'], ['338157271', '2020-03-27 02:05:14.000000 +00:00', '1306659', '431.09', '616395888', 'a934f0d6-5fa6-475d-83df-528364fc8c31']]\n"
     ]
    }
   ],
   "source": [
    "# using the function created to remove header\n",
    "rdd_sales_without_header = rdd_processing(rdd_sales)\n",
    "print(\"Sales:\")\n",
    "# Total records after header removal\n",
    "total_count = rdd_sales_without_header.count()\n",
    "print(f\"Total count of records: {total_count}\")\n",
    "# displaying the first 10 records\n",
    "print(f\"First 10 records:\")\n",
    "ten_records = rdd_sales_without_header.take(10)\n",
    "print(ten_records)"
   ]
  },
  {
   "cell_type": "code",
   "execution_count": 9,
   "metadata": {},
   "outputs": [
    {
     "name": "stdout",
     "output_type": "stream",
     "text": [
      "Users:\n",
      "Total count of records: 15639803\n",
      "First 10 records:\n",
      "[['514771925', 'MERVYN', 'Unknown', '1-5-1963', '30A LUCINDA AVENUE', '2260', 'NSW', 'male', 'WAMBERAL'], ['531947692', 'FALLON', 'Unknown', '16-10-2002', '82 CAMBERWARRA DRIVE', '6025', 'WA', 'female', 'CRAIGIE'], ['560231306', 'KALIN', 'Unknown', '19-8-2015', '74 SOLDIERS ROAD', '2281', 'NSW', 'male', 'PELICAN'], ['575248835', 'PIETTA', 'Unknown', '19-1-1962', 'UNIT 1, 1 LARK AVENUE', '5023', 'SA', 'female', 'SEATON'], ['575243330', 'SUMMAH', 'Unknown', '19-4-1973', '44 CLARENDON ROAD', '2048', 'NSW', 'female', 'STANMORE'], ['516606243', 'KEIRA', 'Unknown', '9-6-2011', '1 VIOLA CLOSE', '4868', 'QLD', 'female', 'BAYVIEW HEIGHTS'], ['545807768', 'VERITY', 'Unknown', '1-2-1980', '31-33 KING STREET', '3550', 'VIC', 'female', 'BENDIGO'], ['529118965', 'MAXWELL', 'Unknown', '16-5-2012', '15 HARWELL WAY', '6721', 'WA', 'male', 'WEDGEFIELD'], ['518625399', 'NATASHIA', 'Unknown', '5-6-1973', 'UNIT 3, 17 BOX STREET', '6530', 'WA', 'female', 'WEBBERTON'], ['518273873', 'JUSTINE', 'Unknown', '27-8-2007', 'UNIT 909, 112 GODERICH STREET', '6004', 'WA', 'male', 'EAST PERTH']]\n"
     ]
    }
   ],
   "source": [
    "# using the function created to remove header\n",
    "rdd_users_without_header = rdd_processing(rdd_users)\n",
    "print(\"Users:\")\n",
    "# Total records after header removal\n",
    "total_count = rdd_users_without_header.count()\n",
    "print(f\"Total count of records: {total_count}\")\n",
    "# displaying the first 10 records\n",
    "print(f\"First 10 records:\")\n",
    "ten_records = rdd_users_without_header.take(10)\n",
    "print(ten_records)"
   ]
  },
  {
   "cell_type": "markdown",
   "metadata": {},
   "source": [
    "1.1.4 Drop unnecessary columns from RDDs: firstname, lastname, user_session."
   ]
  },
  {
   "cell_type": "code",
   "execution_count": 10,
   "metadata": {},
   "outputs": [
    {
     "name": "stdout",
     "output_type": "stream",
     "text": [
      "Users: \n",
      "[['514771925', '1-5-1963', '30A LUCINDA AVENUE', '2260', 'NSW', 'male', 'WAMBERAL'], ['531947692', '16-10-2002', '82 CAMBERWARRA DRIVE', '6025', 'WA', 'female', 'CRAIGIE'], ['560231306', '19-8-2015', '74 SOLDIERS ROAD', '2281', 'NSW', 'male', 'PELICAN'], ['575248835', '19-1-1962', 'UNIT 1, 1 LARK AVENUE', '5023', 'SA', 'female', 'SEATON'], ['575243330', '19-4-1973', '44 CLARENDON ROAD', '2048', 'NSW', 'female', 'STANMORE'], ['516606243', '9-6-2011', '1 VIOLA CLOSE', '4868', 'QLD', 'female', 'BAYVIEW HEIGHTS'], ['545807768', '1-2-1980', '31-33 KING STREET', '3550', 'VIC', 'female', 'BENDIGO'], ['529118965', '16-5-2012', '15 HARWELL WAY', '6721', 'WA', 'male', 'WEDGEFIELD'], ['518625399', '5-6-1973', 'UNIT 3, 17 BOX STREET', '6530', 'WA', 'female', 'WEBBERTON'], ['518273873', '27-8-2007', 'UNIT 909, 112 GODERICH STREET', '6004', 'WA', 'male', 'EAST PERTH']]\n"
     ]
    }
   ],
   "source": [
    "# removing the firstname and lastname columns from the Users data\n",
    "rdd_users_filtered = rdd_users_without_header.map(lambda x: [x[0]] + x[3:])\n",
    "# printing the resultatnt\n",
    "print(\"Users: \")\n",
    "print(rdd_users_filtered.take(10))"
   ]
  },
  {
   "cell_type": "code",
   "execution_count": 11,
   "metadata": {},
   "outputs": [
    {
     "name": "stdout",
     "output_type": "stream",
     "text": [
      "Sales: \n",
      "[['338156802', '2020-03-27 02:03:48.000000 +00:00', '4804056', '171.56', '513119357'], ['338156808', '2020-03-27 02:03:49.000000 +00:00', '1005223', '209.53', '522277649'], ['338156913', '2020-03-27 02:04:11.000000 +00:00', '1005212', '174.25', '632847510'], ['338156921', '2020-03-27 02:04:13.000000 +00:00', '1005236', '231.15', '626579483'], ['338156953', '2020-03-27 02:04:18.000000 +00:00', '1005212', '174.25', '633245502'], ['338156985', '2020-03-27 02:04:24.000000 +00:00', '100132156', '47.5', '541680528'], ['338157055', '2020-03-27 02:04:37.000000 +00:00', '3500009', '290.84', '618162129'], ['338157122', '2020-03-27 02:04:48.000000 +00:00', '2300214', '386.08', '626601722'], ['338157141', '2020-03-27 02:04:52.000000 +00:00', '100070443', '35.01', '604369152'], ['338157271', '2020-03-27 02:05:14.000000 +00:00', '1306659', '431.09', '616395888']]\n"
     ]
    }
   ],
   "source": [
    "# removing the user_session column from the Sales data\n",
    "rdd_sales_filtered = rdd_sales_without_header.map(lambda x: x[:-1])\n",
    "# printing the resultatnt\n",
    "print(\"Sales: \")\n",
    "print(rdd_sales_filtered.take(10))"
   ]
  },
  {
   "cell_type": "markdown",
   "metadata": {},
   "source": [
    "### 1.2 Data Partitioning in RDD <a class=\"anchor\" name=\"1.2\"></a>\n",
    "1.2.1 For each RDD, print out the total number of partitions and the number of records in each partition. Answer the following questions: How many partitions do the above RDDs have? How is the data in these RDDs partitioned by default, when we do not explicitly specify any partitioning strategy? Can you explain why it will be partitioned in this number? If I only have one single core CPU in my PC, what is the default partition's number? (Hint: search the Spark source code to try to answer this question.) Write code and your explanation in Markdown cells."
   ]
  },
  {
   "cell_type": "code",
   "execution_count": 12,
   "metadata": {
    "scrolled": true
   },
   "outputs": [
    {
     "name": "stdout",
     "output_type": "stream",
     "text": [
      "Customer:\n",
      "No. of partitions: 2\n",
      "Partition 0: 648 records\n",
      "Partition 1: 817 records\n",
      "\n",
      "Product:\n",
      "No. of partitions: 2\n",
      "Partition 0: 104193 records\n",
      "Partition 1: 104098 records\n",
      "\n",
      "Sales:\n",
      "No. of partitions: 22\n",
      "Partition 0: 315833 records\n",
      "Partition 1: 315940 records\n",
      "Partition 2: 316009 records\n",
      "Partition 3: 319748 records\n",
      "Partition 4: 319808 records\n",
      "Partition 5: 319827 records\n",
      "Partition 6: 319861 records\n",
      "Partition 7: 319855 records\n",
      "Partition 8: 317174 records\n",
      "Partition 9: 316760 records\n",
      "Partition 10: 316656 records\n",
      "Partition 11: 316733 records\n",
      "Partition 12: 316682 records\n",
      "Partition 13: 316607 records\n",
      "Partition 14: 316439 records\n",
      "Partition 15: 316229 records\n",
      "Partition 16: 316253 records\n",
      "Partition 17: 316229 records\n",
      "Partition 18: 316133 records\n",
      "Partition 19: 316127 records\n",
      "Partition 20: 316023 records\n",
      "Partition 21: 187899 records\n",
      "\n",
      "Users:\n",
      "No. of partitions: 39\n",
      "Partition 0: 407685 records\n",
      "Partition 1: 407751 records\n",
      "Partition 2: 407663 records\n",
      "Partition 3: 407640 records\n",
      "Partition 4: 407740 records\n",
      "Partition 5: 407698 records\n",
      "Partition 6: 407764 records\n",
      "Partition 7: 407723 records\n",
      "Partition 8: 407732 records\n",
      "Partition 9: 407782 records\n",
      "Partition 10: 407851 records\n",
      "Partition 11: 407787 records\n",
      "Partition 12: 407659 records\n",
      "Partition 13: 407782 records\n",
      "Partition 14: 407827 records\n",
      "Partition 15: 407766 records\n",
      "Partition 16: 407888 records\n",
      "Partition 17: 407701 records\n",
      "Partition 18: 407788 records\n",
      "Partition 19: 407748 records\n",
      "Partition 20: 407745 records\n",
      "Partition 21: 407862 records\n",
      "Partition 22: 407724 records\n",
      "Partition 23: 407781 records\n",
      "Partition 24: 407785 records\n",
      "Partition 25: 407745 records\n",
      "Partition 26: 407680 records\n",
      "Partition 27: 407655 records\n",
      "Partition 28: 407691 records\n",
      "Partition 29: 407780 records\n",
      "Partition 30: 407737 records\n",
      "Partition 31: 407740 records\n",
      "Partition 32: 407693 records\n",
      "Partition 33: 407728 records\n",
      "Partition 34: 407713 records\n",
      "Partition 35: 407799 records\n",
      "Partition 36: 407740 records\n",
      "Partition 37: 407682 records\n",
      "Partition 38: 145549 records\n",
      "\n"
     ]
    }
   ],
   "source": [
    "# creating a function to identify and print out the partitions\n",
    "def partitions_print(rdd, data_name):\n",
    "    rdd_partitions = rdd.getNumPartitions()\n",
    "    print(f\"{data_name}:\")\n",
    "    print(f\"No. of partitions: {rdd_partitions}\")\n",
    "    # identifying number of records\n",
    "    record_data = rdd.mapPartitions(lambda it: [sum(1 for _ in it)]).collect()\n",
    "    for index, part in enumerate(record_data):\n",
    "        if part > 0:\n",
    "            print(f\"Partition {index}: {part} records\")\n",
    "    print()\n",
    "\n",
    "\n",
    "# using the above created function to display the no. of partitions and records in each partition\n",
    "category_partitions_record = partitions_print(rdd_category, \"Customer\")\n",
    "product_partitions_record = partitions_print(rdd_product, \"Product\")\n",
    "sales_partitions_record = partitions_print(rdd_sales, \"Sales\")\n",
    "user_partitions_record = partitions_print(rdd_users, \"Users\")"
   ]
  },
  {
   "cell_type": "markdown",
   "metadata": {},
   "source": [
    "Q1) How many partitions do the above RDDs have?\n",
    "\n",
    "1. Category - 2 partitions\n",
    "2. Product - 2 partitions\n",
    "3. Sales - 21 partitions\n",
    "4. Users - 39 partitions"
   ]
  },
  {
   "cell_type": "markdown",
   "metadata": {},
   "source": [
    "Q2) How is the data in these RDDs partitioned by default, when we do not explicitly specify any partitioning strategy?\n",
    "    \n",
    "The files are partitioned using the Round-robin partitioning strategy or random-equal partitioning by default.\n",
    "By default, Spark creates one partition for one block of file, usually 128MB in HDFS by default. (Spark Programming Guide - Spark 2.1.0 Documentation, n.d.)\n",
    "\n",
    "Below are a few scenarios where we do not specify any partitioning strategy explicitly:\n",
    "\n",
    "    * The dataset might be large\n",
    "    * To be able to use parallel processing across all available resources\n",
    "    * Data Skew"
   ]
  },
  {
   "cell_type": "markdown",
   "metadata": {},
   "source": [
    "Q3) Can you explain why it will be partitioned in this number? If I only have one single core CPU in my PC, what is the default partition's number?\n",
    "\n",
    "The default number of partitions is determing by Spark based on the available CPU cores in the cluster. If there is a single core, then the default partition will be set to 1. Each unit of paralellism will be a representation of each partition.\n",
    "In this case, the partitioning reasoning can be attributed to factors such as data skewness. When data is not evenly distributed, some partitions contain more data that the others.\n",
    "\n",
    "\n",
    "\n",
    "\n"
   ]
  },
  {
   "cell_type": "markdown",
   "metadata": {},
   "source": [
    "1.2.2. Create a user defined function (UDF) to transform category_code to capitalized words. (e.g. apparel.shoes.ballet_shoes shall be converted to “Apparel Shots Ballet_shoes)."
   ]
  },
  {
   "cell_type": "code",
   "execution_count": 13,
   "metadata": {
    "scrolled": true
   },
   "outputs": [
    {
     "data": {
      "text/plain": [
       "[['2090971686529663114', 'Appliances Environment Vacuum'],\n",
       " ['2232732116498514828', 'Apparel Jeans'],\n",
       " ['2232732109628244704', 'Apparel Shirt'],\n",
       " ['2232732103294845523', 'Apparel Shoes Step_ins'],\n",
       " ['2232732086500851925', 'Apparel Scarf']]"
      ]
     },
     "execution_count": 13,
     "metadata": {},
     "output_type": "execute_result"
    }
   ],
   "source": [
    "from pyspark.sql.functions import udf\n",
    "from pyspark.sql.types import StringType\n",
    "\n",
    "# defining the UDF needed for creating capitalized words\n",
    "def capitalized_cat_code(category_code):\n",
    "    # splitting the categoru codes by the delimeter\n",
    "    cat_parts = category_code.split(\".\")\n",
    "    capitalized_cat_parts = [part.capitalize() for part in cat_parts]\n",
    "    # Joining the code back based on the Example \"Apparel Shots Ballet_shoes\"\n",
    "    capitalized_cat_code = \" \".join(capitalized_cat_parts)\n",
    "    return capitalized_cat_code\n",
    "\n",
    "\n",
    "# Using the aboe function to extract in mentioned format for category data\n",
    "rdd_category_updated = rdd_category_without_header.map(\n",
    "    lambda x: [x[0], capitalized_cat_code(x[1])]\n",
    ")\n",
    "rdd_category_updated.take(5)"
   ]
  },
  {
   "cell_type": "markdown",
   "metadata": {},
   "source": [
    "1.2.3. Join Product and Category RDDs and Create a new key value RDD, using brand as the key and all of the categories of that brand as the value. Print out the first 5 records of the key-value RDD."
   ]
  },
  {
   "cell_type": "code",
   "execution_count": 14,
   "metadata": {},
   "outputs": [
    {
     "name": "stdout",
     "output_type": "stream",
     "text": [
      "[('domani-spa', ['Electronics Clocks', 'Furniture Bathroom Bath', 'Furniture Living_room Cabinet', 'Others']), ('', ['Accessories Bag', 'Accessories Umbrella', 'Accessories Wallet', 'Apparel Belt', 'Apparel Costume', 'Apparel Dress', 'Apparel Glove', 'Apparel Jacket', 'Apparel Jeans', 'Apparel Jumper', 'Apparel Pajamas', 'Apparel Scarf', 'Apparel Shirt', 'Apparel Shoes', 'Apparel Shoes Ballet_shoes', 'Apparel Shoes Espadrilles', 'Apparel Shoes Keds', 'Apparel Shoes Moccasins', 'Apparel Shoes Sandals', 'Apparel Shoes Slipons', 'Apparel Shoes Step_ins', 'Apparel Shorts', 'Apparel Skirt', 'Apparel Sock', 'Apparel Trousers', 'Apparel Tshirt', 'Apparel Underwear', 'Appliances Environment Air_conditioner', 'Appliances Environment Air_heater', 'Appliances Environment Climate', 'Appliances Environment Fan', 'Appliances Environment Vacuum', 'Appliances Environment Water_heater', 'Appliances Iron', 'Appliances Ironing_board', 'Appliances Kitchen Blender', 'Appliances Kitchen Coffee_grinder', 'Appliances Kitchen Coffee_machine', 'Appliances Kitchen Dishwasher', 'Appliances Kitchen Fryer', 'Appliances Kitchen Grill', 'Appliances Kitchen Hob', 'Appliances Kitchen Hood', 'Appliances Kitchen Juicer', 'Appliances Kitchen Kettle', 'Appliances Kitchen Meat_grinder', 'Appliances Kitchen Microwave', 'Appliances Kitchen Mixer', 'Appliances Kitchen Oven', 'Appliances Kitchen Refrigerators', 'Appliances Kitchen Steam_cooker', 'Appliances Kitchen Toster', 'Appliances Kitchen Washer', 'Appliances Personal Hair_cutter', 'Appliances Personal Massager', 'Appliances Personal Scales', 'Appliances Sewing_machine', 'Auto Accessories Alarm', 'Auto Accessories Anti_freeze', 'Auto Accessories Compressor', 'Auto Accessories Light', 'Auto Accessories Parktronic', 'Auto Accessories Player', 'Auto Accessories Radar', 'Auto Accessories Videoregister', 'Auto Accessories Winch', 'Computers Components Cdrw', 'Computers Components Cooler', 'Computers Components Cpu', 'Computers Components Hdd', 'Computers Components Memory', 'Computers Components Motherboard', 'Computers Components Power_supply', 'Computers Components Sound_card', 'Computers Components Videocards', 'Computers Desktop', 'Computers Ebooks', 'Computers Notebook', 'Computers Peripherals Camera', 'Computers Peripherals Keyboard', 'Computers Peripherals Monitor', 'Computers Peripherals Mouse', 'Computers Peripherals Printer', 'Construction Components Faucet', 'Construction Tools Axe', 'Construction Tools Drill', 'Construction Tools Generator', 'Construction Tools Light', 'Construction Tools Painting', 'Construction Tools Pump', 'Construction Tools Saw', 'Construction Tools Screw', 'Construction Tools Soldering', 'Construction Tools Welding', 'Country_yard Cultivator', 'Country_yard Furniture Bench', 'Country_yard Furniture Hammok', 'Country_yard Lawn_mower', 'Country_yard Watering', 'Electronics Audio Acoustic', 'Electronics Audio Dictaphone', 'Electronics Audio Headphone', 'Electronics Audio Microphone', 'Electronics Audio Music_tools Piano', 'Electronics Audio Subwoofer', 'Electronics Camera Photo', 'Electronics Camera Video', 'Electronics Clocks', 'Electronics Smartphone', 'Electronics Tablet', 'Electronics Telephone', 'Electronics Video Projector', 'Electronics Video Tv', 'Furniture Bathroom Bath', 'Furniture Bathroom Toilet', 'Furniture Bedroom Bed', 'Furniture Bedroom Blanket', 'Furniture Bedroom Pillow', 'Furniture Kitchen Chair', 'Furniture Kitchen Table', 'Furniture Living_room Cabinet', 'Furniture Living_room Chair', 'Furniture Living_room Shelving', 'Furniture Living_room Sofa', 'Furniture Universal Light', 'Kids Carriage', 'Kids Dolls', 'Kids Fmcg Diapers', 'Kids Skates', 'Kids Swing', 'Kids Toys', 'Medicine Tools Tonometer', 'Others', 'Sport Bicycle', 'Sport Diving', 'Sport Ski', 'Sport Snowboard', 'Sport Tennis', 'Sport Trainer', 'Stationery Cartrige', 'Stationery Paper']), ('midea', ['Apparel Belt', 'Apparel Costume', 'Apparel Tshirt', 'Appliances Environment Air_conditioner', 'Appliances Environment Air_heater', 'Appliances Environment Vacuum', 'Appliances Environment Water_heater', 'Appliances Iron', 'Appliances Kitchen Blender', 'Appliances Kitchen Dishwasher', 'Appliances Kitchen Hob', 'Appliances Kitchen Hood', 'Appliances Kitchen Microwave', 'Appliances Kitchen Oven', 'Appliances Kitchen Refrigerators', 'Appliances Kitchen Washer', 'Appliances Personal Massager', 'Auto Accessories Videoregister', 'Computers Components Cooler', 'Construction Tools Generator', 'Construction Tools Welding', 'Electronics Camera Photo', 'Electronics Clocks', 'Furniture Bedroom Blanket', 'Kids Swing', 'Others']), ('fissman', ['Accessories Bag', 'Apparel Shoes', 'Apparel Shoes Keds', 'Apparel Tshirt', 'Appliances Kitchen Kettle', 'Computers Peripherals Camera', 'Computers Peripherals Printer', 'Construction Tools Generator', 'Electronics Audio Subwoofer', 'Electronics Telephone', 'Furniture Living_room Chair', 'Others']), ('bona', ['Apparel Tshirt', 'Computers Components Cooler', 'Others'])]\n"
     ]
    }
   ],
   "source": [
    "# sorting the category RDD\n",
    "rdd_category_kv = rdd_category_updated.map(lambda x: (x[0], x[1]))\n",
    "# creating the brand and category id rdd\n",
    "rdd_product_brand = rdd_product_without_header.map(lambda x: (x[1], x[2]))\n",
    "# joining the above two rdds\n",
    "rdd_joined = rdd_category_kv.join(rdd_product_brand)\n",
    "# extracting to create the key value pair rdd with brand as key\n",
    "brand_category_product_rdd = rdd_joined.map(lambda x: (x[1][1], x[1][0]))\n",
    "# grouping the brands to show all categories\n",
    "grouped_rdd = brand_category_product_rdd.groupByKey()\n",
    "# the list is converted to a set to ensure categories are unique\n",
    "grouped_rdd_list = grouped_rdd.mapValues(\n",
    "    lambda categories: sorted(list(set(categories)))\n",
    ")\n",
    "print(grouped_rdd_list.take(5))"
   ]
  },
  {
   "cell_type": "markdown",
   "metadata": {},
   "source": [
    "### 1.3 Query/Analysis <a class=\"anchor\" name=\"1.3\"></a>\n",
    "For this part, write relevant RDD operations to answer the following queries.\n",
    "\n",
    "**1.3.1 Calculate the average daily sales for each year, each month. Print the results as the following format(see assignment specification).**"
   ]
  },
  {
   "cell_type": "code",
   "execution_count": 15,
   "metadata": {},
   "outputs": [
    {
     "name": "stdout",
     "output_type": "stream",
     "text": [
      "Year       Month      avg sales      \n",
      "===================================\n",
      "2019       10         7417983.94     \n",
      "2019       11         9489478.98     \n",
      "2019       12         11102478.36    \n",
      "2020       01         8701162.34     \n",
      "2020       02         13144101.22    \n",
      "2020       03         10367045.43    \n",
      "2020       04         8150859.74     \n"
     ]
    }
   ],
   "source": [
    "# mapping the sales on a daily level\n",
    "rdd_sales_day = rdd_sales_filtered.map(lambda date: (date[1][:10], float(date[3])))\n",
    "# grouping by key (sales for one day)\n",
    "rdd_sales_day_grouped = rdd_sales_day.groupByKey().mapValues(list)\n",
    "# finding sum of sales each day\n",
    "rdd_sales_day_total = rdd_sales_day_grouped.map(\n",
    "    lambda x: (x[0], sum(float(price) for price in x[1]))\n",
    ")\n",
    "# taking of the day and getting monthly data\n",
    "rdd_month_year_total = rdd_sales_day_total.map(\n",
    "    lambda data: (data[0][:7], float(data[1]))\n",
    ")\n",
    "rdd_month_year_sales = rdd_month_year_total.groupByKey().mapValues(list)\n",
    "# calculating average sales at the yearly level\n",
    "rdd_year_daily_sales = rdd_month_year_sales.mapValues(\n",
    "    lambda value: round(sum(value) / len(value), 2)\n",
    ").sortByKey()\n",
    "\n",
    "# printing the values in the table format\n",
    "print(\"{:<10} {:<10} {:<15}\".format(\"Year\", \"Month\", \"avg sales\"))\n",
    "print(\"=\" * 35)\n",
    "\n",
    "for key, value in rdd_year_daily_sales.collect():\n",
    "    year, month = key.split(\"-\")\n",
    "    print(\"{:<10} {:<10} {:<15}\".format(year, month, value))"
   ]
  },
  {
   "cell_type": "markdown",
   "metadata": {},
   "source": [
    "**1.3.2 Find 10 of the best selling brands. You should display the brand and total revenue in the result.**"
   ]
  },
  {
   "cell_type": "code",
   "execution_count": 16,
   "metadata": {
    "scrolled": false
   },
   "outputs": [
    {
     "name": "stdout",
     "output_type": "stream",
     "text": [
      "Brand                          Total Revenue  \n",
      "=============================================\n",
      "apple                          1846051463.73  \n",
      "samsung                        786833558.91   \n",
      "xiaomi                         175269314.73   \n",
      "huawei                         80182987.27    \n",
      "lg                             73917724.57    \n",
      "lucente                        54369150.0     \n",
      "sony                           53442507.92    \n",
      "acer                           53330141.39    \n",
      "oppo                           51687235.69    \n",
      "lenovo                         43567604.38    \n"
     ]
    }
   ],
   "source": [
    "# retreive key-value pairs for product_id and brand\n",
    "rdd_brand_product = rdd_product_without_header.map(lambda x: (x[0], x[2]))\n",
    "# retreive key-value pairs for product_id and sales\n",
    "rdd_product_sales = rdd_sales_filtered.map(lambda x: (x[2], float(x[3])))\n",
    "# Join the tables\n",
    "rdd_joined = (\n",
    "    rdd_brand_product.join(rdd_product_sales)\n",
    "    .map(lambda x: (x[1][0], x[1][1]))\n",
    "    .reduceByKey(lambda a, b: a + b)\n",
    "    .filter(lambda x: x[0] != \"\")\n",
    ")\n",
    "# sum the total sales for a brand\n",
    "rdd_rvenue_brand = rdd_joined.mapValues(lambda price: round(price, 2)).sortBy(\n",
    "    lambda x: x[1], ascending=False\n",
    ")\n",
    "# arrange in decending order of total sales\n",
    "top_ten = rdd_rvenue_brand.take(10)\n",
    "# print in table format\n",
    "print(\"{:<30} {:<15}\".format(\"Brand\", \"Total Revenue\"))\n",
    "print(\"=\" * 45)\n",
    "\n",
    "for brand, total_price in top_ten:\n",
    "    print(\"{:<30} {:<15}\".format(brand, total_price))"
   ]
  },
  {
   "cell_type": "markdown",
   "metadata": {},
   "source": [
    "## Part 2. Working with DataFrames <a class=\"anchor\" name=\"2-dataframes\"></a>\n",
    "In this section, you will need to load the given datasets into PySpark DataFrames and use DataFrame functions to answer the queries.\n",
    "### 2.1 Data Preparation and Loading\n",
    "\n",
    "**2.1.1. Load CUPS into four separate dataframes. When you create your dataframes, please refer to the metadata file and think about the appropriate data type for each columns (Note: Initially, you should read date/time related column as the string type).**"
   ]
  },
  {
   "cell_type": "code",
   "execution_count": 17,
   "metadata": {},
   "outputs": [],
   "source": [
    "from pyspark.sql.types import IntegerType, StringType, FloatType, DateType\n",
    "from pyspark.sql.functions import *\n",
    "from datetime import datetime\n",
    "import dateutil.parser\n",
    "from pyspark.sql.window import Window\n",
    "\n",
    "# creating dataframes\n",
    "df_category = spark.read.csv(\"sales/category.csv\", header=True)\n",
    "df_users = spark.read.csv(\"users.csv\", header=True)\n",
    "df_product = spark.read.csv(\"sales/product.csv\", header=True)\n",
    "df_sales = spark.read.csv(\"sales/sales.csv\", header=True)\n",
    "\n",
    "# formatting columns to its accurate data type\n",
    "date_format = udf(lambda x: datetime.strptime(x, \"%d-%m-%Y\"), DateType())\n",
    "df_product = df_product.withColumn(\"avg_cost\", col(\"avg_cost\").cast(FloatType()))\n",
    "df_users = df_users.withColumn(\"dob\", date_format(col(\"dob\")))\n",
    "df_sales = df_sales.withColumn(\"price\", col(\"price\").cast(FloatType()))"
   ]
  },
  {
   "cell_type": "markdown",
   "metadata": {},
   "source": [
    "**Removing Duplicates for every product ID based on the highest length of category ID**"
   ]
  },
  {
   "cell_type": "code",
   "execution_count": 18,
   "metadata": {},
   "outputs": [
    {
     "name": "stdout",
     "output_type": "stream",
     "text": [
      "+----------+-------------------+---------+----------+\n",
      "|product_id|        category_id|    brand|  avg_cost|\n",
      "+----------+-------------------+---------+----------+\n",
      "| 100000023|2053013561277416167|   bigben| 48.619854|\n",
      "| 100000024|2232732105123562109|  ubisoft| 57.042164|\n",
      "| 100000030|2053013561277416167|thqnordic| 31.548983|\n",
      "| 100000046|2232732081585127530|    delta|113.518875|\n",
      "| 100000056|2053013553375346967|     null| 13.509704|\n",
      "| 100000078|2232732102414041665|     null| 20.655043|\n",
      "| 100000086|2125175529001713727|     zubr|  65.04839|\n",
      "| 100000096|2232732081585127530|    delta|  108.9943|\n",
      "| 100000104|2053013563693335403|    delta| 142.03502|\n",
      "| 100000106|2053013563693335403|    delta| 128.95677|\n",
      "| 100000108|2053013563693335403|    delta|  97.49383|\n",
      "| 100000124|2053013563693335403|    delta|  89.15981|\n",
      "| 100000125|2053013563693335403|    delta|  84.45619|\n",
      "| 100000149|2053013565782098913|  respect|  70.58563|\n",
      "| 100000178|2055156924466332447|      dam|  52.14051|\n",
      "| 100000201|2053013555573162395|milavitsa|  26.83442|\n",
      "| 100000210|2053013554415534427|      jvc| 351.84628|\n",
      "| 100000211|2053013553375346967|belashoff| 20.808397|\n",
      "| 100000220|2053013556462354899|      dam| 60.789925|\n",
      "| 100000237|2053013553559896355|roadmarch| 43.790363|\n",
      "+----------+-------------------+---------+----------+\n",
      "only showing top 20 rows\n",
      "\n",
      "Count of rows in the product dataframe:\n",
      "208290\n",
      "Count of rows in the product dataframe after eliminating duplicates:\n",
      "165017\n"
     ]
    }
   ],
   "source": [
    "from pyspark.sql.types import IntegerType, StringType, FloatType, DateType\n",
    "from pyspark.sql.functions import *\n",
    "from datetime import datetime\n",
    "import dateutil.parser\n",
    "from pyspark.sql.window import Window\n",
    "\n",
    "# removing duplicates from df_product\n",
    "# creating a column to identify length of category id\n",
    "df_product = df_product.withColumn(\"len_cat_id\", length(col(\"category_id\")))\n",
    "\n",
    "# defining a windor to partition by product_id and order by cat ID in DESC order\n",
    "window_len = Window.partitionBy(\"product_id\").orderBy(col(\"category_id\").desc())\n",
    "\n",
    "# assigning a rank withi each partition\n",
    "rank = df_product.withColumn(\"rank\", dense_rank().over(window_len))\n",
    "\n",
    "# keeping only rank 1 and filtering out the rest\n",
    "rank_filter = rank.filter(col(\"rank\") == 1)\n",
    "\n",
    "# removing the new columns\n",
    "df_product_without_duplicates = rank_filter.drop(\"rank\", \"len_cat_id\")\n",
    "\n",
    "# printing\n",
    "df_product_without_duplicates.show()\n",
    "print(\"Count of rows in the product dataframe:\")\n",
    "print(df_product.count())\n",
    "print(\"Count of rows in the product dataframe after eliminating duplicates:\")\n",
    "print(df_product_without_duplicates.count())\n",
    "\n",
    "# Removing from category DF\n",
    "df_category = df_category.distinct()"
   ]
  },
  {
   "cell_type": "markdown",
   "metadata": {},
   "source": [
    "Displaying all the dataframes"
   ]
  },
  {
   "cell_type": "code",
   "execution_count": 19,
   "metadata": {},
   "outputs": [
    {
     "name": "stdout",
     "output_type": "stream",
     "text": [
      "+-------------------+--------------------+\n",
      "|        category_id|       category_code|\n",
      "+-------------------+--------------------+\n",
      "|2053013551890563264|           sport.ski|\n",
      "|2097815753423061045|      apparel.tshirt|\n",
      "|2232732100056842769|appliances.person...|\n",
      "|2141478614846144872|       apparel.shoes|\n",
      "|2053013566067311601|              others|\n",
      "|2106075695351333719|              others|\n",
      "|2053013558861496931|              others|\n",
      "|2232732085594882243|              others|\n",
      "|2232732137285484952|furniture.bathroo...|\n",
      "|2232732067399992229|    computers.ebooks|\n",
      "|2053013566277026813|        apparel.belt|\n",
      "|2053013555908706737|       apparel.skirt|\n",
      "|2232732087834640627|appliances.kitche...|\n",
      "|2156718775112565355|              others|\n",
      "|2232732106004365963|appliances.kitche...|\n",
      "|2232732092490318178|   computers.desktop|\n",
      "|2053013557787755041|              others|\n",
      "|2095518917320508073|              others|\n",
      "|2094006249627582860|accessories.umbrella|\n",
      "|2053013561604571899|     apparel.costume|\n",
      "+-------------------+--------------------+\n",
      "only showing top 20 rows\n",
      "\n",
      "+---------+---------+--------+----------+--------------------+--------+-----+------+---------------+\n",
      "|  user_id|firstname|lastname|       dob|             address|postcode|state|   sex|         suburb|\n",
      "+---------+---------+--------+----------+--------------------+--------+-----+------+---------------+\n",
      "|514771925|   MERVYN| Unknown|1963-05-01|  30A LUCINDA AVENUE|    2260|  NSW|  male|       WAMBERAL|\n",
      "|531947692|   FALLON| Unknown|2002-10-16|82 CAMBERWARRA DRIVE|    6025|   WA|female|        CRAIGIE|\n",
      "|560231306|    KALIN| Unknown|2015-08-19|    74 SOLDIERS ROAD|    2281|  NSW|  male|        PELICAN|\n",
      "|575248835|   PIETTA| Unknown|1962-01-19|UNIT 1, 1 LARK AV...|    5023|   SA|female|         SEATON|\n",
      "|575243330|   SUMMAH| Unknown|1973-04-19|   44 CLARENDON ROAD|    2048|  NSW|female|       STANMORE|\n",
      "|516606243|    KEIRA| Unknown|2011-06-09|       1 VIOLA CLOSE|    4868|  QLD|female|BAYVIEW HEIGHTS|\n",
      "|545807768|   VERITY| Unknown|1980-02-01|   31-33 KING STREET|    3550|  VIC|female|        BENDIGO|\n",
      "|529118965|  MAXWELL| Unknown|2012-05-16|      15 HARWELL WAY|    6721|   WA|  male|     WEDGEFIELD|\n",
      "|518625399| NATASHIA| Unknown|1973-06-05|UNIT 3, 17 BOX ST...|    6530|   WA|female|      WEBBERTON|\n",
      "|518273873|  JUSTINE| Unknown|2007-08-27|UNIT 909, 112 GOD...|    6004|   WA|  male|     EAST PERTH|\n",
      "|538550611|  KAITLIN| Unknown|1971-03-24|      28 HAINES ROAD|    5118|   SA|female|      WILLASTON|\n",
      "|574230872|     PETA| Unknown|1955-11-06|     7 NICOLL AVENUE|    2206|  NSW|female|       EARLWOOD|\n",
      "|552051842|    KARYN| Unknown|2006-09-22|41-43 MONTGOMERY ...|    2177|  NSW|female|      BONNYRIGG|\n",
      "|575291695|  MITANSH| Unknown|1972-11-14|     3 ROBERTS DRIVE|    4210|  QLD|  male|      MAUDSLAND|\n",
      "|513356158|  BRADLEY| Unknown|2009-07-17|      3 LIEBER GROVE|    3201|  VIC|  male|   CARRUM DOWNS|\n",
      "|516227497| JONOTHAN| Unknown|2010-05-11|    22 ARCADIA DRIVE|    4218|  QLD|  male| MERMAID WATERS|\n",
      "|575270518|   DAVIDO| Unknown|2003-10-10|41 GELLIBRAND STREET|    3984|  VIC|  male|    CORONET BAY|\n",
      "|575268101|ELIZABETH| Unknown|2002-05-01|23 SALISBURY CIRCUIT|    3218|  VIC|female|      FYANSFORD|\n",
      "|516356921|   OLIVIA| Unknown|2007-10-15|     10 MELNIK DRIVE|    4131|  QLD|female|       LOGANLEA|\n",
      "|555223706|    ALDEN| Unknown|1956-04-26|    1 BETTINA STREET|    3913|  VIC|  male|          TYABB|\n",
      "+---------+---------+--------+----------+--------------------+--------+-----+------+---------------+\n",
      "only showing top 20 rows\n",
      "\n",
      "+----------+-------------------+---------+----------+\n",
      "|product_id|        category_id|    brand|  avg_cost|\n",
      "+----------+-------------------+---------+----------+\n",
      "| 100000023|2053013561277416167|   bigben| 48.619854|\n",
      "| 100000024|2232732105123562109|  ubisoft| 57.042164|\n",
      "| 100000030|2053013561277416167|thqnordic| 31.548983|\n",
      "| 100000046|2232732081585127530|    delta|113.518875|\n",
      "| 100000056|2053013553375346967|     null| 13.509704|\n",
      "| 100000078|2232732102414041665|     null| 20.655043|\n",
      "| 100000086|2125175529001713727|     zubr|  65.04839|\n",
      "| 100000096|2232732081585127530|    delta|  108.9943|\n",
      "| 100000104|2053013563693335403|    delta| 142.03502|\n",
      "| 100000106|2053013563693335403|    delta| 128.95677|\n",
      "| 100000108|2053013563693335403|    delta|  97.49383|\n",
      "| 100000124|2053013563693335403|    delta|  89.15981|\n",
      "| 100000125|2053013563693335403|    delta|  84.45619|\n",
      "| 100000149|2053013565782098913|  respect|  70.58563|\n",
      "| 100000178|2055156924466332447|      dam|  52.14051|\n",
      "| 100000201|2053013555573162395|milavitsa|  26.83442|\n",
      "| 100000210|2053013554415534427|      jvc| 351.84628|\n",
      "| 100000211|2053013553375346967|belashoff| 20.808397|\n",
      "| 100000220|2053013556462354899|      dam| 60.789925|\n",
      "| 100000237|2053013553559896355|roadmarch| 43.790363|\n",
      "+----------+-------------------+---------+----------+\n",
      "only showing top 20 rows\n",
      "\n",
      "+---------+--------------------+----------+------+---------+--------------------+\n",
      "|       id|     sales_timestamp|product_id| price|  user_id|        user_session|\n",
      "+---------+--------------------+----------+------+---------+--------------------+\n",
      "|338156802|2020-03-27 02:03:...|   4804056|171.56|513119357|0ad58441-9db9-48b...|\n",
      "|338156808|2020-03-27 02:03:...|   1005223|209.53|522277649|2ecb2725-2c40-4ac...|\n",
      "|338156913|2020-03-27 02:04:...|   1005212|174.25|632847510|43609582-1818-488...|\n",
      "|338156921|2020-03-27 02:04:...|   1005236|231.15|626579483|bbf972ef-8f8d-4a3...|\n",
      "|338156953|2020-03-27 02:04:...|   1005212|174.25|633245502|90166e0d-d7da-499...|\n",
      "|338156985|2020-03-27 02:04:...| 100132156|  47.5|541680528|4cd111cc-8716-472...|\n",
      "|338157055|2020-03-27 02:04:...|   3500009|290.84|618162129|d0bda424-a759-494...|\n",
      "|338157122|2020-03-27 02:04:...|   2300214|386.08|626601722|ce913646-936a-4b2...|\n",
      "|338157141|2020-03-27 02:04:...| 100070443| 35.01|604369152|fd55e2cd-dc42-4bf...|\n",
      "|338157271|2020-03-27 02:05:...|   1306659|431.09|616395888|a934f0d6-5fa6-475...|\n",
      "|338157278|2020-03-27 02:05:...|  21700003| 69.47|623947440|8099cb6d-d0b1-425...|\n",
      "|338157334|2020-03-27 02:05:...|   1002544|411.59|616784559|0049e9f6-061f-4fa...|\n",
      "|338157406|2020-03-27 02:05:...| 100166102|125.87|628794011|4fe57338-ff71-419...|\n",
      "|338157443|2020-03-27 02:05:...|   1004870|269.66|632847510|43609582-1818-488...|\n",
      "|338157458|2020-03-27 02:05:...|   1005100|148.89|513119357|0ad58441-9db9-48b...|\n",
      "|338157536|2020-03-27 02:06:...| 100078501| 642.1|561551130|7c62706a-0aeb-444...|\n",
      "|338157556|2020-03-27 02:06:...|  30000055|141.55|627339630|d9d5b760-9fab-47d...|\n",
      "|338157598|2020-03-27 02:06:...|  26006082|  5.49|609735374|c0c10c90-c371-4c5...|\n",
      "|338157606|2020-03-27 02:06:...|   1004210|100.13|526990839|f996677c-32b7-44d...|\n",
      "|338157697|2020-03-27 02:06:...|   3700466| 56.62|516382362|c5a1c30c-06c9-48d...|\n",
      "+---------+--------------------+----------+------+---------+--------------------+\n",
      "only showing top 20 rows\n",
      "\n"
     ]
    }
   ],
   "source": [
    "# displaying the dataframes\n",
    "df_category.show()\n",
    "df_users.show()\n",
    "df_product_without_duplicates.show()\n",
    "df_sales.show()"
   ]
  },
  {
   "cell_type": "markdown",
   "metadata": {},
   "source": [
    "**2.1.2 Display the schema of the four dataframes.**"
   ]
  },
  {
   "cell_type": "code",
   "execution_count": 20,
   "metadata": {},
   "outputs": [
    {
     "name": "stdout",
     "output_type": "stream",
     "text": [
      "Category:\n",
      "root\n",
      " |-- category_id: string (nullable = true)\n",
      " |-- category_code: string (nullable = true)\n",
      "\n",
      "Products:\n",
      "root\n",
      " |-- product_id: string (nullable = true)\n",
      " |-- category_id: string (nullable = true)\n",
      " |-- brand: string (nullable = true)\n",
      " |-- avg_cost: float (nullable = true)\n",
      "\n",
      "Users:\n",
      "root\n",
      " |-- user_id: string (nullable = true)\n",
      " |-- firstname: string (nullable = true)\n",
      " |-- lastname: string (nullable = true)\n",
      " |-- dob: date (nullable = true)\n",
      " |-- address: string (nullable = true)\n",
      " |-- postcode: string (nullable = true)\n",
      " |-- state: string (nullable = true)\n",
      " |-- sex: string (nullable = true)\n",
      " |-- suburb: string (nullable = true)\n",
      "\n",
      "Sales:\n",
      "root\n",
      " |-- id: string (nullable = true)\n",
      " |-- sales_timestamp: string (nullable = true)\n",
      " |-- product_id: string (nullable = true)\n",
      " |-- price: float (nullable = true)\n",
      " |-- user_id: string (nullable = true)\n",
      " |-- user_session: string (nullable = true)\n",
      "\n"
     ]
    }
   ],
   "source": [
    "# printing schema of the dataframes\n",
    "print(\"Category:\")\n",
    "df_category.printSchema()\n",
    "print(\"Products:\")\n",
    "df_product_without_duplicates.printSchema()\n",
    "print(\"Users:\")\n",
    "df_users.printSchema()\n",
    "print(\"Sales:\")\n",
    "df_sales.printSchema()"
   ]
  },
  {
   "cell_type": "markdown",
   "metadata": {},
   "source": [
    "### 2.2 QueryAnalysis  <a class=\"anchor\" name=\"2.2\"></a>\n",
    "Implement the following queries using dataframes. You need to be able to perform operations like filtering, sorting, joining and group by using the functions provided by the DataFrame API.   \n",
    "\n",
    "**2.2.1. Transform the 'sales_time' column in the sales dataframe to the date type; extract the hour in sales_date and create a new column “sales_hour”; after that, show the schema.**"
   ]
  },
  {
   "cell_type": "code",
   "execution_count": 21,
   "metadata": {},
   "outputs": [
    {
     "name": "stdout",
     "output_type": "stream",
     "text": [
      "+---------+---------------+----------+------+---------+--------------------+----------+\n",
      "|       id|sales_timestamp|product_id| price|  user_id|        user_session|sales_hour|\n",
      "+---------+---------------+----------+------+---------+--------------------+----------+\n",
      "|338156802|     2020-03-27|   4804056|171.56|513119357|0ad58441-9db9-48b...|        13|\n",
      "|338156808|     2020-03-27|   1005223|209.53|522277649|2ecb2725-2c40-4ac...|        13|\n",
      "|338156913|     2020-03-27|   1005212|174.25|632847510|43609582-1818-488...|        13|\n",
      "|338156921|     2020-03-27|   1005236|231.15|626579483|bbf972ef-8f8d-4a3...|        13|\n",
      "|338156953|     2020-03-27|   1005212|174.25|633245502|90166e0d-d7da-499...|        13|\n",
      "|338156985|     2020-03-27| 100132156|  47.5|541680528|4cd111cc-8716-472...|        13|\n",
      "|338157055|     2020-03-27|   3500009|290.84|618162129|d0bda424-a759-494...|        13|\n",
      "|338157122|     2020-03-27|   2300214|386.08|626601722|ce913646-936a-4b2...|        13|\n",
      "|338157141|     2020-03-27| 100070443| 35.01|604369152|fd55e2cd-dc42-4bf...|        13|\n",
      "|338157271|     2020-03-27|   1306659|431.09|616395888|a934f0d6-5fa6-475...|        13|\n",
      "|338157278|     2020-03-27|  21700003| 69.47|623947440|8099cb6d-d0b1-425...|        13|\n",
      "|338157334|     2020-03-27|   1002544|411.59|616784559|0049e9f6-061f-4fa...|        13|\n",
      "|338157406|     2020-03-27| 100166102|125.87|628794011|4fe57338-ff71-419...|        13|\n",
      "|338157443|     2020-03-27|   1004870|269.66|632847510|43609582-1818-488...|        13|\n",
      "|338157458|     2020-03-27|   1005100|148.89|513119357|0ad58441-9db9-48b...|        13|\n",
      "|338157536|     2020-03-27| 100078501| 642.1|561551130|7c62706a-0aeb-444...|        13|\n",
      "|338157556|     2020-03-27|  30000055|141.55|627339630|d9d5b760-9fab-47d...|        13|\n",
      "|338157598|     2020-03-27|  26006082|  5.49|609735374|c0c10c90-c371-4c5...|        13|\n",
      "|338157606|     2020-03-27|   1004210|100.13|526990839|f996677c-32b7-44d...|        13|\n",
      "|338157697|     2020-03-27|   3700466| 56.62|516382362|c5a1c30c-06c9-48d...|        13|\n",
      "+---------+---------------+----------+------+---------+--------------------+----------+\n",
      "only showing top 20 rows\n",
      "\n",
      "root\n",
      " |-- id: string (nullable = true)\n",
      " |-- sales_timestamp: date (nullable = true)\n",
      " |-- product_id: string (nullable = true)\n",
      " |-- price: float (nullable = true)\n",
      " |-- user_id: string (nullable = true)\n",
      " |-- user_session: string (nullable = true)\n",
      " |-- sales_hour: integer (nullable = true)\n",
      "\n"
     ]
    }
   ],
   "source": [
    "from pyspark.sql.types import StringType, TimestampType\n",
    "from pyspark.sql.functions import col, to_date, to_timestamp, hour\n",
    "\n",
    "# transform the data type of 'sales_time' and creating a new column\n",
    "df_sales_time = df_sales.withColumn(\n",
    "    \"sales_timestamp\", col(\"sales_timestamp\").cast(TimestampType())\n",
    ")\n",
    "# extracting the hour column\n",
    "df_sales_hour = df_sales_time.withColumn(\"sales_hour\", hour(col(\"sales_timestamp\")))\n",
    "# converting to date type\n",
    "df_sales_date = df_sales_hour.withColumn(\n",
    "    \"sales_timestamp\", to_date(col(\"sales_timestamp\"))\n",
    ")\n",
    "# printing the dataframe and the schema\n",
    "df_sales_date.show()\n",
    "df_sales_date.printSchema()"
   ]
  },
  {
   "cell_type": "markdown",
   "metadata": {},
   "source": [
    "**2.2.2. Calculate total sales for each hour, sort your result based on each hour’s sales in a descending order. Print out the sales_hour and total_sales columns.**"
   ]
  },
  {
   "cell_type": "code",
   "execution_count": 22,
   "metadata": {},
   "outputs": [
    {
     "name": "stdout",
     "output_type": "stream",
     "text": [
      "+----------+--------------+\n",
      "|sales_hour|   total_sales|\n",
      "+----------+--------------+\n",
      "|        20|153,511,972.31|\n",
      "|        19|152,162,799.24|\n",
      "|        21|147,246,808.68|\n",
      "|        18|144,179,584.58|\n",
      "|        22|136,181,010.90|\n",
      "|        17|136,075,394.32|\n",
      "|        23|125,598,940.56|\n",
      "|        16|122,840,674.68|\n",
      "|         0|116,995,600.04|\n",
      "|         1|110,803,533.10|\n",
      "|         2|102,877,517.41|\n",
      "|        15|101,009,945.91|\n",
      "|         3| 94,410,169.23|\n",
      "|         4| 85,415,642.23|\n",
      "|         5| 70,938,222.58|\n",
      "|        14| 67,361,740.56|\n",
      "|         6| 52,667,169.95|\n",
      "|         7| 34,294,152.08|\n",
      "|        13| 31,814,464.30|\n",
      "|         8| 22,258,807.81|\n",
      "+----------+--------------+\n",
      "only showing top 20 rows\n",
      "\n"
     ]
    }
   ],
   "source": [
    "from pyspark.sql.functions import *\n",
    "\n",
    "# grouping by hour and aggregation followed by sorting in descending\n",
    "df_sales_hr = (\n",
    "    df_sales_date.groupBy(\"sales_hour\")\n",
    "    .agg(sum(\"price\").alias(\"total_sales\"))\n",
    "    .orderBy(col(\"total_sales\").desc())\n",
    ")\n",
    "# formatting the data to a readable format\n",
    "df_sales_hr = df_sales_hr.withColumn(\n",
    "    \"total_sales\", format_number(col(\"total_sales\"), 2)\n",
    ").show()"
   ]
  },
  {
   "cell_type": "markdown",
   "metadata": {},
   "source": [
    "**2.2.3.Find 10 most profitable categories (profit can be simply defined as price - avg_cost). Print out the category name and total profit. Please print the category name in capitalized word format(hint: you can reuse the UDF defined in part 1.)**"
   ]
  },
  {
   "cell_type": "code",
   "execution_count": 23,
   "metadata": {},
   "outputs": [
    {
     "name": "stdout",
     "output_type": "stream",
     "text": [
      "+--------------------+-------------+\n",
      "|            Category| Total Profit|\n",
      "+--------------------+-------------+\n",
      "|Construction Tool...|58,011,078.81|\n",
      "|Appliances Person...| 5,109,978.55|\n",
      "|  Computers Notebook| 3,515,245.56|\n",
      "|Appliances Kitche...| 2,966,325.03|\n",
      "|  Electronics Clocks| 1,623,781.27|\n",
      "|Appliances Kitche...| 1,532,399.81|\n",
      "|Electronics Audio...| 1,356,576.72|\n",
      "|              Others| 1,181,926.07|\n",
      "|Appliances Kitche...| 1,173,261.65|\n",
      "|Electronics Smart...| 1,057,397.47|\n",
      "+--------------------+-------------+\n",
      "\n"
     ]
    }
   ],
   "source": [
    "from pyspark.sql.functions import col, sum\n",
    "from pyspark.sql.types import StringType\n",
    "\n",
    "# aliasing columns\n",
    "df_product_without_duplicates = df_product_without_duplicates.withColumnRenamed(\n",
    "    \"category_id\", \"p_category_id\"\n",
    ")\n",
    "# joining sales, product and category dataframes\n",
    "df_combined = df_sales_date.join(\n",
    "    df_product_without_duplicates,\n",
    "    df_sales_date[\"product_id\"] == df_product_without_duplicates[\"product_id\"],\n",
    ").join(\n",
    "    df_category,\n",
    "    df_product_without_duplicates[\"p_category_id\"] == df_category[\"category_id\"],\n",
    ")\n",
    "\n",
    "# calculating profit\n",
    "profit_df = (\n",
    "    df_combined.withColumn(\"profit\", col(\"price\") - col(\"avg_cost\"))\n",
    "    .groupBy(\"category_id\", \"category_code\")\n",
    "    .agg(sum(\"profit\").alias(\"Total Profit\"))\n",
    "    .orderBy(col(\"Total Profit\").desc())\n",
    "    .limit(10)\n",
    ")\n",
    "\n",
    "# formating\n",
    "profit_df = profit_df.withColumn(\"Total Profit\", format_number(col(\"Total Profit\"), 2))\n",
    "\n",
    "# registering the udf\n",
    "capitalized_cat_udf = udf(capitalized_cat_code, StringType())\n",
    "\n",
    "# using udf for capitalised words\n",
    "result_df = profit_df.withColumn(\n",
    "    \"Category\", capitalized_cat_udf(col(\"category_code\"))\n",
    ").select(\"Category\", \"Total Profit\")\n",
    "\n",
    "# printing\n",
    "result_df.show()"
   ]
  },
  {
   "cell_type": "markdown",
   "metadata": {},
   "source": [
    "**2.2.4. Use DataFrame filters to find all transactions sold at loss (defined as price < avg_cost), calculate 10 worst loss margin in percentage. (margin is defined as (price - avg_cost)/avg_cost; if price - avg_cost > 0, it’s call a profit margin; otherwise a loss margin)**"
   ]
  },
  {
   "cell_type": "code",
   "execution_count": 24,
   "metadata": {},
   "outputs": [
    {
     "name": "stdout",
     "output_type": "stream",
     "text": [
      "+---------+-----------+\n",
      "|       id|loss_margin|\n",
      "+---------+-----------+\n",
      "|204037762|     -99.24|\n",
      "|204017856|     -99.24|\n",
      "|394075934|     -99.09|\n",
      "|394106370|     -99.09|\n",
      "|394083902|     -99.09|\n",
      "|396544717|     -99.09|\n",
      "|394112198|     -99.09|\n",
      "|394129754|     -99.09|\n",
      "|396531551|     -99.09|\n",
      "|396598353|     -99.09|\n",
      "+---------+-----------+\n",
      "\n"
     ]
    }
   ],
   "source": [
    "from pyspark.sql.functions import col, expr\n",
    "\n",
    "df_loss = df_combined.groupBy(\"id\").agg(\n",
    "    round(expr(\"(sum(price -avg_cost) / sum(avg_cost)) * 100\"), 2).alias(\"loss_margin\")\n",
    ")\n",
    "df_loss_10 = df_loss.orderBy(col(\"loss_margin\").asc()).limit(10)\n",
    "df_loss_10.show()"
   ]
  },
  {
   "cell_type": "markdown",
   "metadata": {},
   "source": [
    "**2.2.5. Draw a barchart to show total sales from different states in each year.**"
   ]
  },
  {
   "cell_type": "code",
   "execution_count": 25,
   "metadata": {},
   "outputs": [
    {
     "data": {
      "image/png": "[encoded data removed]",
      "text/plain": [
       "<Figure size 1200x600 with 1 Axes>"
      ]
     },
     "metadata": {},
     "output_type": "display_data"
    }
   ],
   "source": [
    "import matplotlib.pyplot as plt\n",
    "import pandas as pd\n",
    "\n",
    "# renaming the column to ensure it is unique\n",
    "df_sales_date = df_sales_date.withColumnRenamed(\"user_id\", \"sales_user_id\")\n",
    "# joining sales and user data\n",
    "df_users_sales = df_sales_date.join(\n",
    "    df_users, df_sales_date[\"sales_user_id\"] == df_users[\"user_id\"]\n",
    ")\n",
    "# state and year grouping for total_sales\n",
    "df_sales_state_year = df_users_sales.groupBy(\n",
    "    \"state\", year(\"sales_timestamp\").alias(\"year\")\n",
    ").agg(sum(\"price\").alias(\"total_sales\"))\n",
    "\n",
    "# converting to pandas df for ease of ploting\n",
    "pddf_sales_state_year = df_sales_state_year.toPandas()\n",
    "\n",
    "# creating a summary for plotting\n",
    "df_summary = pddf_sales_state_year.pivot(\n",
    "    index=\"year\", columns=\"state\", values=\"total_sales\"\n",
    ")\n",
    "\n",
    "# bar chart\n",
    "axis = df_summary.plot(kind=\"bar\", figsize=(12, 6))\n",
    "axis.set_title(\"Total Sales by State in a year\")\n",
    "axis.set_xlabel(\"Year\")\n",
    "axis.set_ylabel(\"Total Sales\")\n",
    "plt.xticks(rotation=45)\n",
    "plt.legend(title=\"State\")\n",
    "plt.tight_layout()\n",
    "plt.show()"
   ]
  },
  {
   "cell_type": "markdown",
   "metadata": {},
   "source": [
    "**2.2.6. Draw a scatter plot of customer age and their total spending with MOTH. To limit the number of datapoints, you may show the top 1000 “most valuable” customers only. You may also use log scale for the XY axis.**"
   ]
  },
  {
   "cell_type": "code",
   "execution_count": 26,
   "metadata": {},
   "outputs": [
    {
     "name": "stdout",
     "output_type": "stream",
     "text": [
      "+---+--------------------+---------------------+\n",
      "|age|total_spending      |Total_spending_by_age|\n",
      "+---+--------------------+---------------------+\n",
      "|10 |5.000793245563242E7 |50,007,932.46        |\n",
      "|11 |4.973628586338264E7 |49,736,285.86        |\n",
      "|12 |4.869971365284628E7 |48,699,713.65        |\n",
      "|13 |4.752794939986992E7 |47,527,949.40        |\n",
      "|14 |4.463453129044379E7 |44,634,531.29        |\n",
      "|15 |4.3856005024751514E7|43,856,005.02        |\n",
      "|16 |4.1412218051602185E7|41,412,218.05        |\n",
      "|20 |3.8233194125211835E7|38,233,194.13        |\n",
      "|18 |3.808708742630391E7 |38,087,087.43        |\n",
      "|17 |3.789741411307305E7 |37,897,414.11        |\n",
      "|19 |3.615895093715441E7 |36,158,950.94        |\n",
      "|21 |3.517109656909895E7 |35,171,096.57        |\n",
      "|23 |3.482964349309024E7 |34,829,643.49        |\n",
      "|22 |3.4736004505505085E7|34,736,004.51        |\n",
      "|24 |3.38835423601526E7  |33,883,542.36        |\n",
      "|26 |3.353773014660421E7 |33,537,730.15        |\n",
      "|25 |3.3078960193193436E7|33,078,960.19        |\n",
      "|29 |3.255674457356438E7 |32,556,744.57        |\n",
      "|27 |3.2395309896125555E7|32,395,309.90        |\n",
      "|28 |3.1988591837316066E7|31,988,591.84        |\n",
      "+---+--------------------+---------------------+\n",
      "only showing top 20 rows\n",
      "\n"
     ]
    },
    {
     "data": {
      "text/plain": [
       "<Axes: xlabel='age', ylabel='total_spending'>"
      ]
     },
     "execution_count": 26,
     "metadata": {},
     "output_type": "execute_result"
    },
    {
     "data": {
      "image/png": "[encoded data removed]",
      "text/plain": [
       "<Figure size 640x480 with 1 Axes>"
      ]
     },
     "metadata": {},
     "output_type": "display_data"
    }
   ],
   "source": [
    "import matplotlib.pyplot as plt\n",
    "import pandas as pd\n",
    "from pyspark.sql.functions import *\n",
    "from pyspark.sql.types import IntegerType\n",
    "\n",
    "# calculation of age up until 2023\n",
    "df_age = df_users_sales.withColumn(\n",
    "    \"age\", (datediff(current_date(), df_users[\"dob\"]) / 365.25).cast(IntegerType())\n",
    ")\n",
    "\n",
    "# calculating spending and grouping by age\n",
    "df_spending = df_age.groupBy(\"age\").agg(sum(\"price\").alias(\"total_spending\"))\n",
    "# sorting by spending and top 1000\n",
    "df_spending_1000 = df_spending.orderBy(col(\"total_spending\").desc()).limit(1000)\n",
    "# formatting\n",
    "df_spending_1000 = df_spending_1000.withColumn(\n",
    "    \"Total_spending_by_age\", format_number(col(\"total_spending\"), 2)\n",
    ")\n",
    "df_spending_1000.show(truncate=False)\n",
    "# converting to pandas\n",
    "pddf_spending_1000 = df_spending_1000.toPandas()\n",
    "pddf_spending_1000.plot.scatter(x=\"age\", y=\"total_spending\")"
   ]
  },
  {
   "cell_type": "markdown",
   "metadata": {},
   "source": [
    "### Part 3 RDDs vs DataFrame vs Spark SQL (15%) <a class=\"anchor\" name=\"part-3\"></a>\n",
    "Implement the following queries using RDDs, DataFrames in SparkSQL separately. Log the  time taken for each query in each approach using the “%%time” built-in magic command in Jupyter Notebook and discuss the performance difference between these 3 approaches. \n"
   ]
  },
  {
   "cell_type": "markdown",
   "metadata": {},
   "source": [
    "\n"
   ]
  },
  {
   "cell_type": "markdown",
   "metadata": {},
   "source": [
    "#### Query: Find top 100 most popular products (by total sales) among user age group 20-40, group by brand, and show total sales revenue of each brand."
   ]
  },
  {
   "cell_type": "markdown",
   "metadata": {},
   "source": [
    "#### 3.1. RDD Implementation"
   ]
  },
  {
   "cell_type": "markdown",
   "metadata": {},
   "source": [
    "**Setting up the RDDs to execute the ask**"
   ]
  },
  {
   "cell_type": "code",
   "execution_count": 33,
   "metadata": {},
   "outputs": [],
   "source": [
    "# getting user_id and dob\n",
    "user_age = rdd_users_without_header.map(lambda row: (row[0], [row[3]]))\n",
    "\n",
    "# extracting product_id & brand\n",
    "rdd_prod_brand = rdd_product_without_header.map(lambda row: (row[0], [row[2]]))\n",
    "\n",
    "# drawing sales with user_id, sale_id, prod_id and price\n",
    "rdd_sale_data = rdd_sales_without_header.map(\n",
    "    lambda row: (row[4], [row[2], row[0], row[3]])\n",
    ")\n",
    "\n",
    "# joining the rdds\n",
    "rdd_user_sale = rdd_sale_data.join(user_age)\n",
    "\n",
    "# calculating age\n",
    "rdd_user_sale_1 = rdd_user_sale.map(lambda row: (row[0], [*row[1][0] + [*row[1]][1]]))\n",
    "rdd_user_sale_2 = rdd_user_sale_1.map(\n",
    "    lambda row: (\n",
    "        row[0],\n",
    "        row[1][0:3]\n",
    "        + [\n",
    "            int(\n",
    "                (datetime.today() - datetime.strptime(row[1][3], \"%d-%m-%Y\")).days\n",
    "                / 365.25\n",
    "            )\n",
    "        ],\n",
    "    )\n",
    ")"
   ]
  },
  {
   "cell_type": "markdown",
   "metadata": {},
   "source": [
    "**Now implementing as per the ask**"
   ]
  },
  {
   "cell_type": "code",
   "execution_count": 34,
   "metadata": {},
   "outputs": [
    {
     "name": "stdout",
     "output_type": "stream",
     "text": [
      "CPU times: user 12 µs, sys: 2 µs, total: 14 µs\n",
      "Wall time: 28.8 µs\n",
      "[('apple', 450077278.2899976), ('samsung', 163710317.95999458), ('xiaomi', 28462276.460000366), ('', 24604702.200000245), ('huawei', 15468013.900000084), ('oppo', 10154520.159999693), ('sony', 3499908.780000069), ('lenovo', 1840829.7400000426), ('artel', 1468725.0399999917)]\n"
     ]
    }
   ],
   "source": [
    "# capturing time for RDD implementation\n",
    "%time\n",
    "\n",
    "# filtering age - (user_id, prod_id, sale_id, price)\n",
    "filtered_sale = rdd_user_sale_2.filter(lambda row: 20 <= row[1][3] <= 40).map(\n",
    "    lambda row: (row[0], row[1][0], row[1][1], float(row[1][2]))\n",
    ")\n",
    "# print(filtered_sale.take(5)) - (prod_id, uid, sales_id, price)\n",
    "filtered_sale_kv = filtered_sale.map(lambda row: (row[1], [row[2], row[3]]))\n",
    "# print(filtered_sale_kv.take(5))\n",
    "filtered_sale_prod_kv = filtered_sale_kv.groupByKey().mapValues(list)\n",
    "# print(filtered_sale_prod_kv.take(1))\n",
    "# taking top product_ids based on count of sale_id\n",
    "def rank_id(iter):\n",
    "    count = 0\n",
    "    total_sum = 0.0\n",
    "    for row in iter:\n",
    "        count += 1\n",
    "        total_sum += row[1]\n",
    "    return (count, total_sum)\n",
    "\n",
    "\n",
    "# calculating the count of sale_ids and the top 100 prod_is\n",
    "top_sale_prod = (\n",
    "    filtered_sale_prod_kv.groupByKey()\n",
    "    .mapValues(lambda row: [rank_id(x) for x in row])\n",
    "    .sortBy(lambda row: row[1][0], ascending=False)\n",
    "    .take(100)\n",
    ")\n",
    "# converting it back to an RDD\n",
    "rdd_top_sale_prod = sc.parallelize(top_sale_prod)\n",
    "# joining with product data to get brand\n",
    "rdd_sales_prod = rdd_top_sale_prod.join(rdd_prod_brand)\n",
    "# extracting brand and revenue\n",
    "rdd_brand_revenue = rdd_sales_prod.map(lambda row: (row[1][1][0], row[1][0][0][1]))\n",
    "rdd_brand_final = rdd_brand_revenue.reduceByKey(lambda a, b: a + b).sortBy(\n",
    "    lambda row: row[1], ascending=False\n",
    ")\n",
    "\n",
    "print(rdd_brand_final.take(10))"
   ]
  },
  {
   "cell_type": "markdown",
   "metadata": {},
   "source": [
    "#### 3.2. DataFrame Implementation"
   ]
  },
  {
   "cell_type": "code",
   "execution_count": 35,
   "metadata": {},
   "outputs": [
    {
     "name": "stdout",
     "output_type": "stream",
     "text": [
      "CPU times: user 2 µs, sys: 1 µs, total: 3 µs\n",
      "Wall time: 25.3 µs\n",
      "+-------+-------------+\n",
      "|  brand|total_revenue|\n",
      "+-------+-------------+\n",
      "|  apple|    450077.28|\n",
      "|samsung|    163710.32|\n",
      "| xiaomi|     28462.28|\n",
      "|   null|      24604.7|\n",
      "| huawei|     15468.01|\n",
      "|   oppo|     10154.52|\n",
      "|   sony|      3499.91|\n",
      "| lenovo|      1840.83|\n",
      "|  artel|      1468.73|\n",
      "+-------+-------------+\n",
      "\n"
     ]
    }
   ],
   "source": [
    "# capturing time for dataframe implementation\n",
    "%time\n",
    "\n",
    "from pyspark.sql.window import Window\n",
    "\n",
    "# age filteration\n",
    "df_age_filtered = df_age.filter((col(\"age\") >= 20) & (col(\"age\") <= 40))\n",
    "\n",
    "# count for popular products\n",
    "df_pop_products = df_age_filtered.groupBy(\"product_id\").agg(count(\"id\").alias(\"count\"))\n",
    "\n",
    "# rank\n",
    "rank_window = Window.orderBy(col(\"count\").desc())\n",
    "df_ranked_prod = df_pop_products.withColumn(\"rank\", row_number().over(rank_window))\n",
    "\n",
    "# top 100 IDs\n",
    "df_top_prods = df_ranked_prod.filter(col(\"rank\") <= 100).select(\"product_id\")\n",
    "\n",
    "df_filtered_prod = df_product.join(df_top_prods, \"product_id\")\n",
    "\n",
    "# filtering and taking needed data like brand and total_revenue\n",
    "df_filtered_prod = (\n",
    "    df_filtered_prod.join(df_age_filtered, \"product_id\")\n",
    "    .groupBy(\"brand\")\n",
    "    .agg(round(sum(col(\"price\")) / 1000, 2).alias(\"total_revenue\"))\n",
    "    .orderBy(col(\"total_revenue\").desc())\n",
    ")\n",
    "\n",
    "df_filtered_prod.show()"
   ]
  },
  {
   "cell_type": "markdown",
   "metadata": {},
   "source": [
    "#### 3.3. Spark SQL Implementation"
   ]
  },
  {
   "cell_type": "code",
   "execution_count": 36,
   "metadata": {},
   "outputs": [
    {
     "name": "stdout",
     "output_type": "stream",
     "text": [
      "CPU times: user 2 µs, sys: 1 µs, total: 3 µs\n",
      "Wall time: 16.7 µs\n",
      "+-------+-------------+\n",
      "|  brand|total_revenue|\n",
      "+-------+-------------+\n",
      "|  apple|    450077.28|\n",
      "|samsung|    163710.32|\n",
      "| xiaomi|     28462.28|\n",
      "|   null|      24604.7|\n",
      "| huawei|     15468.01|\n",
      "|   oppo|     10154.52|\n",
      "|   sony|      3499.91|\n",
      "| lenovo|      1840.83|\n",
      "|  artel|      1468.73|\n",
      "+-------+-------------+\n",
      "\n"
     ]
    }
   ],
   "source": [
    "# capturing time for SQL implementation\n",
    "%time\n",
    "\n",
    "# creating a view\n",
    "df_sales_date.createOrReplaceTempView(\"view_sales_date\")\n",
    "df_age.createOrReplaceTempView(\"view_age\")\n",
    "df_product.createOrReplaceTempView(\"view_product\")\n",
    "\n",
    "spark.sql(\n",
    "    \"\"\"\n",
    "    SELECT product_id, id, age, price\n",
    "    FROM view_age\n",
    "    WHERE age BETWEEN 20 AND 40\n",
    "\"\"\"\n",
    ").createOrReplaceTempView(\"view_filtered_age\")\n",
    "\n",
    "view_ranked_prods = spark.sql(\n",
    "    \"\"\"\n",
    "    SELECT product_id, COUNT(id) AS count\n",
    "    FROM view_filtered_age\n",
    "    GROUP BY product_id\n",
    "\"\"\"\n",
    ").createOrReplaceTempView(\"view_ranked_prods\")\n",
    "\n",
    "spark.sql(\n",
    "    \"\"\"\n",
    "    SELECT product_id, count, ROW_NUMBER() OVER (ORDER BY count DESC) AS rank\n",
    "    FROM view_ranked_prods\n",
    "\"\"\"\n",
    ").createOrReplaceTempView(\"ranked_prods\")\n",
    "\n",
    "spark.sql(\n",
    "    \"\"\"\n",
    "    SELECT product_id\n",
    "    FROM ranked_prods\n",
    "    WHERE rank <= 100\n",
    "\"\"\"\n",
    ").createOrReplaceTempView(\"top_ranked_prods\")\n",
    "\n",
    "spark.sql(\n",
    "    \"\"\"\n",
    "    SELECT p.brand, ROUND(SUM(af.price) / 1000, 2) AS total_revenue\n",
    "    FROM top_ranked_prods tp\n",
    "    JOIN view_product p ON tp.product_id = p.product_id\n",
    "    JOIN view_filtered_age af ON p.product_id = af.product_id\n",
    "    GROUP BY p.brand\n",
    "    ORDER BY total_revenue DESC\n",
    "\"\"\"\n",
    ").show()"
   ]
  },
  {
   "cell_type": "markdown",
   "metadata": {},
   "source": [
    "# Without duplicates"
   ]
  },
  {
   "cell_type": "markdown",
   "metadata": {},
   "source": [
    "**Dataframe Without duplicates**"
   ]
  },
  {
   "cell_type": "code",
   "execution_count": 37,
   "metadata": {},
   "outputs": [
    {
     "name": "stdout",
     "output_type": "stream",
     "text": [
      "CPU times: user 4 µs, sys: 0 ns, total: 4 µs\n",
      "Wall time: 223 µs\n",
      "+-------+-------------+\n",
      "|  brand|total_revenue|\n",
      "+-------+-------------+\n",
      "|  apple|    225679.89|\n",
      "|samsung|     87211.84|\n",
      "| xiaomi|     14231.14|\n",
      "| huawei|      7734.01|\n",
      "|   null|      5484.04|\n",
      "|   oppo|      5077.26|\n",
      "|   sony|      1749.95|\n",
      "| lenovo|       920.41|\n",
      "|  artel|       734.36|\n",
      "+-------+-------------+\n",
      "\n"
     ]
    }
   ],
   "source": [
    "# capturing time for dataframe implementation\n",
    "%time\n",
    "\n",
    "from pyspark.sql.window import Window\n",
    "\n",
    "# age filteration\n",
    "df_age_filtered = df_age.filter((col(\"age\") >= 20) & (col(\"age\") <= 40))\n",
    "\n",
    "# count for popular products\n",
    "df_pop_products = df_age_filtered.groupBy(\"product_id\").agg(count(\"id\").alias(\"count\"))\n",
    "\n",
    "# rank\n",
    "rank_window = Window.orderBy(col(\"count\").desc())\n",
    "df_ranked_prod = df_pop_products.withColumn(\"rank\", row_number().over(rank_window))\n",
    "\n",
    "# top 100 IDs\n",
    "df_top_prods = df_ranked_prod.filter(col(\"rank\") <= 100).select(\"product_id\")\n",
    "\n",
    "df_filtered_prod = df_product_without_duplicates.join(df_top_prods, \"product_id\")\n",
    "\n",
    "# filtering and taking needed data like brand and total_revenue\n",
    "df_filtered_prod = (\n",
    "    df_filtered_prod.join(df_age_filtered, \"product_id\")\n",
    "    .groupBy(\"brand\")\n",
    "    .agg(round(sum(col(\"price\")) / 1000, 2).alias(\"total_revenue\"))\n",
    "    .orderBy(col(\"total_revenue\").desc())\n",
    ")\n",
    "\n",
    "df_filtered_prod.show()"
   ]
  },
  {
   "cell_type": "markdown",
   "metadata": {},
   "source": [
    "**SQL Without duplicates**"
   ]
  },
  {
   "cell_type": "code",
   "execution_count": 32,
   "metadata": {},
   "outputs": [
    {
     "name": "stdout",
     "output_type": "stream",
     "text": [
      "CPU times: user 2 µs, sys: 0 ns, total: 2 µs\n",
      "Wall time: 17.2 µs\n",
      "+-------+-------------+\n",
      "|  brand|total_revenue|\n",
      "+-------+-------------+\n",
      "|  apple|    225679.89|\n",
      "|samsung|     87211.84|\n",
      "| xiaomi|     14231.14|\n",
      "| huawei|      7734.01|\n",
      "|   null|      5484.04|\n",
      "|   oppo|      5077.26|\n",
      "|   sony|      1749.95|\n",
      "| lenovo|       920.41|\n",
      "|  artel|       734.36|\n",
      "+-------+-------------+\n",
      "\n"
     ]
    }
   ],
   "source": [
    "# capturing time for SQL implementation\n",
    "%time\n",
    "\n",
    "# creating a view\n",
    "df_sales_date.createOrReplaceTempView(\"view_sales_date\")\n",
    "df_age.createOrReplaceTempView(\"view_age\")\n",
    "df_product_without_duplicates.createOrReplaceTempView(\"view_product\")\n",
    "\n",
    "spark.sql(\n",
    "    \"\"\"\n",
    "    SELECT product_id, id, age, price\n",
    "    FROM view_age\n",
    "    WHERE age BETWEEN 20 AND 40\n",
    "\"\"\"\n",
    ").createOrReplaceTempView(\"view_filtered_age\")\n",
    "\n",
    "view_ranked_prods = spark.sql(\n",
    "    \"\"\"\n",
    "    SELECT product_id, COUNT(id) AS count\n",
    "    FROM view_filtered_age\n",
    "    GROUP BY product_id\n",
    "\"\"\"\n",
    ").createOrReplaceTempView(\"view_ranked_prods\")\n",
    "\n",
    "spark.sql(\n",
    "    \"\"\"\n",
    "    SELECT product_id, count, ROW_NUMBER() OVER (ORDER BY count DESC) AS rank\n",
    "    FROM view_ranked_prods\n",
    "\"\"\"\n",
    ").createOrReplaceTempView(\"ranked_prods\")\n",
    "\n",
    "spark.sql(\n",
    "    \"\"\"\n",
    "    SELECT product_id\n",
    "    FROM ranked_prods\n",
    "    WHERE rank <= 100\n",
    "\"\"\"\n",
    ").createOrReplaceTempView(\"top_ranked_prods\")\n",
    "\n",
    "spark.sql(\n",
    "    \"\"\"\n",
    "    SELECT p.brand, ROUND(SUM(af.price) / 1000, 2) AS total_revenue\n",
    "    FROM top_ranked_prods tp\n",
    "    JOIN view_product p ON tp.product_id = p.product_id\n",
    "    JOIN view_filtered_age af ON p.product_id = af.product_id\n",
    "    GROUP BY p.brand\n",
    "    ORDER BY total_revenue DESC\n",
    "\"\"\"\n",
    ").show()"
   ]
  },
  {
   "cell_type": "markdown",
   "metadata": {},
   "source": [
    "### 3.4 Observe the query execution time among RDD, DataFrame, SparkSQL, which is the fastest and why? (Maximum 500 words.)"
   ]
  },
  {
   "cell_type": "markdown",
   "metadata": {},
   "source": []
  },
  {
   "cell_type": "markdown",
   "metadata": {},
   "source": [
    "**NOTE:\n",
    "    Since RDD has duplicates and more rows of data, the DataFrame and SQL implementation has been done in two formats:**\n",
    "    \n",
    "    *With duplicates\n",
    "    *Without duplicates\n",
    "    \n",
    "    We can notice that the output for all three API's (DataFrame and SQL without duplicates match) and is a good case for efficiency comparison."
   ]
  },
  {
   "cell_type": "markdown",
   "metadata": {},
   "source": [
    "**Case**\n",
    "In the above-mentioned case, we are comparing the execution time for three different APIs to achieve the same task with very similar approaches. Please note that we began the data operation for Data frames and SQL at the stage where the data was aggregated and age needed to be filtered out. Considering this, even for RDDs, time has been measured only from the second cell for fair comparison.\n",
    "\n",
    "**Brief**\n",
    "This activity aimed to understand the execution efficiency of three APIs (RDDs, Dataframes and datasets) to execute one output from the same raw data. \n",
    "We can observe that RDDs took significantly longer (wall time) than Dataframes (+~200%) and datasets (+~500%) in the above-mentioned time.\n",
    "Overall, SQL Spark is the fastest in terms of processing data and performing operations.\n",
    "\n",
    "**Understanding the APIs:**\n",
    "RDDs: A distributed collection of data elements spread across machines in the cluster. It can process structured as well as unstructured data.\n",
    "Dataframes: A distributed column-based collection of data. It can process only semi-structured or structured data.\n",
    "SQL: It is an extension of the Dataframes API with benefits of type-safe and object-oriented programming. Data of any kind can be processed with this API.\n",
    "(Team, 2017)\n",
    "\n",
    "\n",
    "**Reason for efficiency in SQL (extention of dataframes):**\n",
    "SQL and Dataframes are more efficient as compared to RDDs because:\n",
    "1.\tOptimisation: Dataframes are built on the Spark SQL engine, which uses Catalyst to generate optimized physical and logical query plans. All relation-type queries go through the same code optimizer, making them faster and using less memory.\n",
    "2.\tSerialisation: One of the benefits of utilizing Dataframes is their Serialization capability. Essentially, this functionality enables the data to be serialized into binary format and stored in off-heap memory. Subsequently, any transformations performed on the data are executed directly on this off-heap memory. This API boasts a Tungsten physical execution backend, which proficiently manages the memory and dynamically generates bytecode for the evaluation of expressions. This feature contributes to the overall efficiency and effectiveness of the data processing and analysis. (“DataFrame — Pandas 1.0.3 Documentation,” 2014)\n",
    "3.\tThere is no “garbage collection” that happens in Dataframes/SQL (based on the above logic of serialisation), it makes more memory space available. (Team, 2017)\n",
    "\n",
    "**References:**\n",
    "\n",
    "1.\tDataFrame — pandas 1.0.3 documentation. (2014). Retrieved from Pydata.org website: https://pandas.pydata.org/docs/reference/frame.html\n",
    "2.\tTeam, D. (2017, May 10). Apache Spark RDD vs DataFrame vs DataSet. DataFlair. https://data-flair.training/blogs/apache-spark-rdd-vs-dataframe-vs-dataset/\n"
   ]
  },
  {
   "cell_type": "markdown",
   "metadata": {},
   "source": [
    "#### Summary\n",
    "\n",
    "The time might differ when running on different machines. Overall, the DataFrame and SQL queries run faster compared with RDD.\n"
   ]
  },
  {
   "cell_type": "markdown",
   "metadata": {},
   "source": [
    "### Some ideas on the comparison\n",
    "\n",
    "Armbrust, M., Huai, Y., Liang, C., Xin, R., & Zaharia, M. (2015). Deep Dive into Spark SQL’s Catalyst Optimizer. Retrieved September 30, 2017, from https://databricks.com/blog/2015/04/13/deep-dive-into-spark-sqls-catalyst-optimizer.html\n",
    "\n",
    "Damji, J. (2016). A Tale of Three Apache Spark APIs: RDDs, DataFrames, and Datasets. Retrieved September 28, 2017, from https://databricks.com/blog/2016/07/14/a-tale-of-three-apache-spark-apis-rdds-dataframes-and-datasets.html\n",
    "\n",
    "Data Flair (2017a). Apache Spark RDD vs DataFrame vs DataSet. Retrieved September 28, 2017, from http://data-flair.training/blogs/apache-spark-rdd-vs-dataframe-vs-dataset\n",
    "\n",
    "Prakash, C. (2016). Apache Spark: RDD vs Dataframe vs Dataset. Retrieved September 28, 2017, from http://why-not-learn-something.blogspot.com.au/2016/07/apache-spark-rdd-vs-dataframe-vs-dataset.html\n",
    "\n",
    "Xin, R., & Rosen, J. (2015). Project Tungsten: Bringing Apache Spark Closer to Bare Metal. Retrieved September 30, 2017, from https://databricks.com/blog/2015/04/28/project-tungsten-bringing-spark-closer-to-bare-metal.html"
   ]
  },
  {
   "cell_type": "markdown",
   "metadata": {},
   "source": [
    "References:\n",
    "1. Spark Programming Guide - Spark 2.1.0 Documentation. (n.d.). Spark.apache.org. Retrieved August 25, 2023, from https://spark.apache.org/docs/2.1.0/programming-guide.html#:~:text=By%20default%2C%20Spark%20creates%20one"
   ]
  }
 ],
 "metadata": {
  "kernelspec": {
   "display_name": "Python 3 (ipykernel)",
   "language": "python",
   "name": "python3"
  },
  "language_info": {
   "codemirror_mode": {
    "name": "ipython",
    "version": 3
   },
   "file_extension": ".py",
   "mimetype": "text/x-python",
   "name": "python",
   "nbconvert_exporter": "python",
   "pygments_lexer": "ipython3",
   "version": "3.10.11"
  }
 },
 "nbformat": 4,
 "nbformat_minor": 4
}
